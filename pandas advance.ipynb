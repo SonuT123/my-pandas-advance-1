{
 "cells": [
  {
   "cell_type": "markdown",
   "id": "6354f477-8af1-46ea-a2e7-8ead40d51862",
   "metadata": {},
   "source": [
    "                             ##Assignment pandas advance 1##"
   ]
  },
  {
   "cell_type": "raw",
   "id": "7eb37909-7f4b-4abe-816b-65259c03943f",
   "metadata": {},
   "source": [
    "Q1. List any five functions of the pandas library with execution."
   ]
  },
  {
   "cell_type": "code",
   "execution_count": 11,
   "id": "022f43b8-3a26-4c48-978f-d787bea03da7",
   "metadata": {},
   "outputs": [
    {
     "name": "stdout",
     "output_type": "stream",
     "text": [
      "      Name  Age\n",
      "0     sonu   25\n",
      "1  chandra   26\n",
      "2      ram   27\n",
      "3    shyam   28\n",
      "      Name  Age\n",
      "1  chandra   26\n",
      "2      ram   27\n",
      "3    shyam   28\n",
      "             Age\n",
      "count   4.000000\n",
      "mean   26.500000\n",
      "std     1.290994\n",
      "min    25.000000\n",
      "25%    25.750000\n",
      "50%    26.500000\n",
      "75%    27.250000\n",
      "max    28.000000\n",
      "      Name  Age\n",
      "0     sonu   25\n",
      "1  chandra   26\n",
      "2      ram   27\n",
      "3    shyam   28\n"
     ]
    }
   ],
   "source": [
    "\"\"\" 1.head() : This function returns the first n rows of a DataFrame.\"\"\"\n",
    "\n",
    "import pandas as pd\n",
    "\n",
    "df = pd.DataFrame({'Name': ['sonu', 'chandra', 'ram', 'shyam'], 'Age': [25, 26, 27, 28]})\n",
    "\n",
    "print(df.head())\n",
    "\n",
    "\"\"\" 2.tail() : This function returns the last n rows of a DataFrame.\"\"\"\n",
    "\n",
    "print(df.tail(3))\n",
    "\n",
    "\"\"\" 3.describe() : This function provides a summary of the numerical data in a DataFrame.\"\"\"\n",
    "\n",
    "print(df.describe())\n",
    "\n",
    "\"\"\" 4.sort_values() : This function sorts the DataFrame by a specified column.\"\"\"\n",
    "\n",
    "print(df.sort_values('Age'))\n",
    "\n",
    "\"\"\" 5.to_csv() : This function saves the DataFrame to a CSV file.\"\"\"\n",
    "\n",
    "df.to_csv('my_dataframe.csv')\n",
    "\n"
   ]
  },
  {
   "cell_type": "raw",
   "id": "9c42916f-f6a0-455b-9a97-194c8d518d44",
   "metadata": {},
   "source": [
    "Q2. Given a Pandas DataFrame df with columns 'A', 'B', and 'C', write a Python function to re-index the\n",
    "DataFrame with a new index that starts from 1 and increments by 2 for each row."
   ]
  },
  {
   "cell_type": "code",
   "execution_count": 12,
   "id": "831af2dc-421f-4560-bd31-fcfc2f883230",
   "metadata": {},
   "outputs": [
    {
     "name": "stdout",
     "output_type": "stream",
     "text": [
      "    A   B   C\n",
      "1  10  40  70\n",
      "3  20  50  80\n",
      "5  30  60  90\n"
     ]
    }
   ],
   "source": [
    "import pandas as pd\n",
    "\n",
    "def reindex_with_increment(df):\n",
    "    new_index = pd.RangeIndex(start=1, stop=len(df)*2, step=2)\n",
    "    df_reindexed = df.copy()\n",
    "    df_reindexed.index = new_index\n",
    "    return df_reindexed\n",
    "\n",
    "data = {'A': [10, 20, 30],\n",
    "        'B': [40, 50, 60],\n",
    "        'C': [70, 80, 90]}\n",
    "\n",
    "df = pd.DataFrame(data)\n",
    "\n",
    "\n",
    "df_reindexed = reindex_with_increment(df)\n",
    "print(df_reindexed)"
   ]
  },
  {
   "cell_type": "raw",
   "id": "44040b3b-dbe2-4c0f-949c-f46ccd5add5f",
   "metadata": {},
   "source": [
    "Q3. You have a Pandas DataFrame df with a column named 'Values'. Write a Python function that\n",
    "    iterates over the DataFrame and calculates the sum of the first three values in the 'Values' column. The\n",
    "    function should print the sum to the console.\n",
    "\n",
    "  For example, if the 'Values' column of df contains the values [10, 20, 30, 40, 50], your function should\n",
    "  calculate and print the sum of the first three values, which is 60."
   ]
  },
  {
   "cell_type": "code",
   "execution_count": 13,
   "id": "34bccb9d-00ad-4c78-a1be-cdeb45119e1c",
   "metadata": {},
   "outputs": [
    {
     "name": "stdout",
     "output_type": "stream",
     "text": [
      "Sum of the first three values: 60\n"
     ]
    }
   ],
   "source": [
    "import pandas as pd\n",
    "\n",
    "def calculate_sum_of_first_three(df):\n",
    "    values_column = df['Values']\n",
    "    sum_first_three = sum(values_column[:3])\n",
    "    print(\"Sum of the first three values:\", sum_first_three)\n",
    "\n",
    "data = {'Values': [10, 20, 30, 40, 50]}\n",
    "df = pd.DataFrame(data)\n",
    "\n",
    "\n",
    "calculate_sum_of_first_three(df)"
   ]
  },
  {
   "cell_type": "raw",
   "id": "aee4007f-8138-4cb3-845a-dded1f74e4b3",
   "metadata": {},
   "source": [
    "Q4. Given a Pandas DataFrame df with a column 'Text', write a Python function to create a new column\n",
    "   'Word_Count' that contains the number of words in each row of the 'Text' column."
   ]
  },
  {
   "cell_type": "code",
   "execution_count": 14,
   "id": "d60efda9-978a-456f-9a93-b7bcd6aa100f",
   "metadata": {},
   "outputs": [
    {
     "name": "stdout",
     "output_type": "stream",
     "text": [
      "                                                Text  Word_Count\n",
      "0                      Hello, this is a sample text.           6\n",
      "1  Pandas is a powerful library for data manipula...           8\n",
      "2           Python programming is fun and versatile.           6\n"
     ]
    }
   ],
   "source": [
    "import pandas as pd\n",
    "\n",
    "def add_word_count_column(df):\n",
    "    df['Word_Count'] = df['Text'].apply(lambda x: len(x.split()))\n",
    "    return df\n",
    "\n",
    "data = {'Text': [\"Hello, this is a sample text.\",\n",
    "                 \"Pandas is a powerful library for data manipulation.\",\n",
    "                 \"Python programming is fun and versatile.\"]}\n",
    "\n",
    "df = pd.DataFrame(data)\n",
    "\n",
    "df_with_word_count = add_word_count_column(df)\n",
    "print(df_with_word_count)"
   ]
  },
  {
   "cell_type": "raw",
   "id": "82a4e903-a2aa-401e-aaa2-120d0e0881df",
   "metadata": {},
   "source": [
    "Q5. How are DataFrame.size() and DataFrame.shape() different?"
   ]
  },
  {
   "cell_type": "code",
   "execution_count": 15,
   "id": "d8901db0-d195-47d4-86a2-bf65cb6bcc49",
   "metadata": {},
   "outputs": [
    {
     "name": "stdout",
     "output_type": "stream",
     "text": [
      "6\n",
      "(3, 2)\n"
     ]
    }
   ],
   "source": [
    "\"\"\"'DataFrame.size' and 'DataFrame.shape' are both attributes of a Pandas DataFrame, but they serve different purposes:\n",
    "    \n",
    "    1.DataFrame.size:\n",
    "        \n",
    "        \n",
    "        >`DataFrame.size` returns the total number of elements in the DataFrame, which is equivalent to the total number\n",
    "          of cells in the DataFrame (rows multiplied by columns).\n",
    "            \n",
    "        >It gives you the total count of data points present in the DataFrame.\n",
    "        >The result is an integer value.\"\"\"\n",
    "        \n",
    "import pandas as pd\n",
    "\n",
    "data = {'A': [1, 2, 3],\n",
    "        'B': [4, 5, 6]}\n",
    "\n",
    "df = pd.DataFrame(data)\n",
    "size = df.size\n",
    "print(size)\n",
    "\n",
    "\"\"\" 2.DataFrame.shape:\n",
    "\n",
    "     >DataFrame.shape returns a tuple representing the dimensions of the DataFrame,\n",
    "        where the first element is the number of rows, and the second element is the number of columns.\n",
    "        \n",
    "     >It provides you with the shape of the DataFrame, which helps you understand its structure.\n",
    "    \n",
    "     >The result is a tuple of integers.\"\"\"\n",
    "\n",
    "\n",
    "import pandas as pd\n",
    "\n",
    "data = {'A': [1, 2, 3],\n",
    "        'B': [4, 5, 6]}\n",
    "\n",
    "df = pd.DataFrame(data)\n",
    "shape = df.shape\n",
    "print(shape)\n"
   ]
  },
  {
   "cell_type": "raw",
   "id": "74e7d6d3-01b5-4f82-a824-69e8cb231893",
   "metadata": {},
   "source": [
    "Q6. Which function of pandas do we use to read an excel file?"
   ]
  },
  {
   "cell_type": "raw",
   "id": "f5a31213-9a18-4296-8f66-c53d1635d928",
   "metadata": {},
   "source": [
    "\"\"\"      The read_excel() function in pandas is used to read an Excel file into a DataFrame.\n",
    "      The syntax for the read_excel() \n",
    "        \n",
    "        pd.read_excel(filepath, sheet_name=None, header=None, index_col=None, names=None,\n",
    "       parse_dates=False, dtype=None, na_values=None, keep_default_na=True, verbose=False,\n",
    "       usecols=None, squeeze=False, **kwargs)\n",
    "        \n",
    "       > filepath: The path to the Excel file.\n",
    "    \n",
    "       >sheet_name: The name of the sheet to read from the Excel file.\n",
    "        If this parameter is not specified, the first sheet in the Excel file will be read.\n",
    "        \n",
    "        >header: The row number of the header in the Excel file.\n",
    "          If this parameter is not specified, the first row in the Excel file will be used as the header.\n",
    "            \n",
    "        >index_col: The column number to use as the index of the DataFrame. \n",
    "          If this parameter is not specified, the index will be auto-generated.\n",
    "            \n",
    "        >names: A list of column names to use for the DataFrame. If this parameter is not specified,\n",
    "          the column names will be taken from the first row of the Excel file.\n",
    "            \n",
    "       >parse_dates: A Boolean value indicating whether to parse dates in the Excel file.\n",
    "          If this parameter is True, dates will be parsed into datetime objects.\n",
    "        \n",
    "        >dtype: A dictionary of column names to data types to use for the DataFrame. \n",
    "           This can be used to override the data types inferred from the Excel file.\n",
    "            \n",
    "        >na_values: A list of strings to use as missing values in the Excel file.\n",
    "        \n",
    "        >keep_default_na: A Boolean value indicating whether to use the default\n",
    "          missing value representations of the Excel file.\n",
    "            If this parameter is False, missing values will be represented as NaN.\n",
    "            \n",
    "         >verbose: A Boolean value indicating whether to print status messages when reading the Excel file.\n",
    "        \n",
    "        >usecols: A list of column numbers to use when reading the Excel file.\n",
    "           If this parameter is not specified, all columns will be read.\n",
    "            \n",
    "        >squeeze: A Boolean value indicating whether to return a Series if there is only one column in the DataFrame.\n",
    "    \n",
    "       >**kwargs: Additional keyword arguments to pass to the underlying xlrd.open_workbook() function \"\"\"  \n",
    "    \n",
    "    \n",
    "df = pd.read_excel('my_data.xlsx')\n",
    "\n",
    "\n",
    "\n",
    "\n",
    "     \"\"\" This will read all sheets in the Excel file my_data.xlsx into a single DataFrame. \n",
    "      If you want to read a specific sheet, you can use the sheet_name parameter.\n",
    "      For example, the following code reads the sheet Sheet1 from the Excel file my_data.xlsx into a DataFrame:\"\"\"\n",
    "            "
   ]
  },
  {
   "cell_type": "raw",
   "id": "aae52165-2d91-48e2-a454-770e698b135d",
   "metadata": {},
   "source": [
    "Q7. You have a Pandas DataFrame df that contains a column named 'Email' that contains email\n",
    "addresses in the format 'username@domain.com'. Write a Python function that creates a new column\n",
    "'Username' in df that contains only the username part of each email address.\n",
    "\n",
    "The username is the part of the email address that appears before the '@' symbol. For example, if the\n",
    "email address is 'john.doe@example.com', the 'Username' column should contain 'john.doe'. Your\n",
    "function should extract the username from each email address and store it in the new 'Username'\n",
    "column."
   ]
  },
  {
   "cell_type": "code",
   "execution_count": 25,
   "id": "b8ef1097-15e4-4467-bbd0-b7c08bec255c",
   "metadata": {},
   "outputs": [
    {
     "name": "stdout",
     "output_type": "stream",
     "text": [
      "                 Email Username\n",
      "0    alice@example.com    alice\n",
      "1      bob@example.com      bob\n",
      "2  charlie@example.com  charlie\n"
     ]
    }
   ],
   "source": [
    "import pandas as pd\n",
    "\n",
    "def extract_username(df):\n",
    "    df['Username'] = df['Email'].apply(lambda email: email.split('@')[0])\n",
    "    return df\n",
    "\n",
    "# Example Dat\n",
    "data = {'Email': ['alice@example.com', 'bob@example.com', 'charlie@example.com']}\n",
    "\n",
    "df = pd.DataFrame(data)\n",
    "\n",
    "# Extract usernames and create the 'Username' column\n",
    "df_with_username = extract_username(df)\n",
    "print(df_with_username)"
   ]
  },
  {
   "cell_type": "raw",
   "id": "8ffa31bf-d0e4-47a6-974c-96fd4cecc87b",
   "metadata": {},
   "source": [
    "Q8. You have a Pandas DataFrame df with columns 'A', 'B', and 'C'. Write a Python function that selects\n",
    "    all rows where the value in column 'A' is greater than 5 and the value in column 'B' is less than 10. The\n",
    "    function should return a new DataFrame that contains only the selected rows.\n",
    "For example, if df contains the following values:\n",
    "A B C\n",
    "0 3 5 1\n",
    "1 8 2 7\n",
    "2 6 9 4\n",
    "3 2 3 5\n",
    "4 9 1 2\n",
    "Your function should select the following rows: A B C\n",
    "1 8 2 7\n",
    "4 9 1 2\n",
    "The function should return a new DataFrame that contains only the selected rows."
   ]
  },
  {
   "cell_type": "code",
   "execution_count": 26,
   "id": "cbfea017-dcc7-4d6a-aeb6-ea00a08aa9b2",
   "metadata": {},
   "outputs": [
    {
     "name": "stdout",
     "output_type": "stream",
     "text": [
      "   A  B  C\n",
      "1  8  2  7\n",
      "2  6  9  4\n",
      "4  9  1  2\n"
     ]
    }
   ],
   "source": [
    "import pandas as pd\n",
    "\n",
    "def select_rows(df):\n",
    "    selected_rows = df[(df['A'] > 5) & (df['B'] < 10)]\n",
    "    return selected_rows\n",
    "\n",
    "data = {'A': [3, 8, 6, 2, 9],\n",
    "        'B': [5, 2, 9, 3, 1],\n",
    "        'C': [1, 7, 4, 5, 2]}\n",
    "\n",
    "df = pd.DataFrame(data)\n",
    "\n",
    "selected_df = select_rows(df)\n",
    "print(selected_df)"
   ]
  },
  {
   "cell_type": "raw",
   "id": "23103184-4bbe-4ab7-8574-f4c54f49a214",
   "metadata": {},
   "source": [
    "Q9. Given a Pandas DataFrame df with a column 'Values', write a Python function to calculate the mean,\n",
    "     median, and standard deviation of the values in the 'Values' column."
   ]
  },
  {
   "cell_type": "code",
   "execution_count": 28,
   "id": "c8bfa4cd-fcdd-496e-94ca-6a4247f8edde",
   "metadata": {},
   "outputs": [
    {
     "name": "stdout",
     "output_type": "stream",
     "text": [
      "Mean: 30.0\n",
      "Median: 30.0\n",
      "Standard Deviation: 15.811388300841896\n"
     ]
    }
   ],
   "source": [
    "import pandas as pd\n",
    "\n",
    "def calculate_stats(df):\n",
    "    values_column = df['Values']\n",
    "    mean = values_column.mean()\n",
    "    median = values_column.median()\n",
    "    std_dev = values_column.std()\n",
    "    return mean, median, std_dev\n",
    "\n",
    "\n",
    "data = {'Values': [10, 20, 30, 40, 50]}\n",
    "\n",
    "df = pd.DataFrame(data)\n",
    "\n",
    "mean, median, std_dev = calculate_stats(df)\n",
    "\n",
    "print(\"Mean:\", mean)\n",
    "print(\"Median:\", median)\n",
    "print(\"Standard Deviation:\", std_dev)"
   ]
  },
  {
   "cell_type": "raw",
   "id": "851829a6-85cd-486e-beb3-8f33ad1f2362",
   "metadata": {},
   "source": [
    "Q10. Given a Pandas DataFrame df with a column 'Sales' and a column 'Date', write a Python function to\n",
    "     create a new column 'MovingAverage' that contains the moving average of the sales for the past 7 days\n",
    "     for each row in the DataFrame. The moving average should be calculated using a window of size 7 and\n",
    "     should include the current day."
   ]
  },
  {
   "cell_type": "code",
   "execution_count": 29,
   "id": "36e19fb4-7b37-4214-b5c4-c3ced390dfd3",
   "metadata": {},
   "outputs": [
    {
     "name": "stdout",
     "output_type": "stream",
     "text": [
      "        Date  Sales  MovingAverage\n",
      "0 2023-07-01     10           10.0\n",
      "1 2023-07-02     15           12.5\n",
      "2 2023-07-03     20           15.0\n",
      "3 2023-07-04     25           17.5\n",
      "4 2023-07-05     30           20.0\n",
      "5 2023-07-06     35           22.5\n",
      "6 2023-07-07     40           25.0\n",
      "7 2023-07-08     45           30.0\n",
      "8 2023-07-09     50           35.0\n",
      "9 2023-07-10     55           40.0\n"
     ]
    }
   ],
   "source": [
    "import pandas as pd\n",
    "\n",
    "def add_moving_average(df):\n",
    "    window_size = 7\n",
    "    df['MovingAverage'] = df['Sales'].rolling(window=window_size, min_periods=1).mean()\n",
    "    return df\n",
    "\n",
    "data = {'Date': pd.date_range(start='2023-07-01', periods=10),\n",
    "        'Sales': [10, 15, 20, 25, 30, 35, 40, 45, 50, 55]}\n",
    "\n",
    "df = pd.DataFrame(data)\n",
    "\n",
    "df_with_moving_average = add_moving_average(df)\n",
    "print(df_with_moving_average)"
   ]
  },
  {
   "cell_type": "raw",
   "id": "257f46de-e611-4d75-8230-33e52ab01e62",
   "metadata": {},
   "source": [
    "Q11. You have a Pandas DataFrame df with a column 'Date'. Write a Python function that creates a new\n",
    "     column 'Weekday' in the DataFrame. The 'Weekday' column should contain the weekday name (e.g.\n",
    "     Monday, Tuesday) corresponding to each date in the 'Date' column.\n",
    "For example, if df contains the following values:\n",
    "Date\n",
    "0 2023-01-01\n",
    "1 2023-01-02\n",
    "2 2023-01-03\n",
    "3 2023-01-04\n",
    "4 2023-01-05\n",
    "Your function should create the following DataFrame:\n",
    "\n",
    "Date Weekday\n",
    "0 2023-01-01 Sunday\n",
    "1 2023-01-02 Monday\n",
    "2 2023-01-03 Tuesday\n",
    "3 2023-01-04 Wednesday\n",
    "4 2023-01-05 Thursday\n",
    "The function should return the modified DataFrame."
   ]
  },
  {
   "cell_type": "code",
   "execution_count": 30,
   "id": "0e17f0cd-57e8-468d-91a0-2ac297ea8978",
   "metadata": {},
   "outputs": [
    {
     "name": "stdout",
     "output_type": "stream",
     "text": [
      "        Date    Weekday\n",
      "0 2023-01-01     Sunday\n",
      "1 2023-01-02     Monday\n",
      "2 2023-01-03    Tuesday\n",
      "3 2023-01-04  Wednesday\n",
      "4 2023-01-05   Thursday\n"
     ]
    }
   ],
   "source": [
    "import pandas as pd\n",
    "\n",
    "def add_weekday_column(df):\n",
    "    df['Weekday'] = df['Date'].dt.strftime('%A')\n",
    "    return df\n",
    "data = {'Date': ['2023-01-01', '2023-01-02', '2023-01-03', '2023-01-04', '2023-01-05']}\n",
    "df = pd.DataFrame(data)\n",
    "\n",
    "df['Date'] = pd.to_datetime(df['Date'])\n",
    "df_with_weekday = add_weekday_column(df)\n",
    "print(df_with_weekday)"
   ]
  },
  {
   "cell_type": "raw",
   "id": "468c3f57-656b-4d64-9b98-c2e730a3e937",
   "metadata": {},
   "source": [
    "Q12. Given a Pandas DataFrame df with a column 'Date' that contains timestamps, write a Python\n",
    "     function to select all rows where the date is between '2023-01-01' and '2023-01-31'."
   ]
  },
  {
   "cell_type": "code",
   "execution_count": 31,
   "id": "6f7c9c15-bda2-4c7a-b8cc-303628c772fa",
   "metadata": {},
   "outputs": [
    {
     "name": "stdout",
     "output_type": "stream",
     "text": [
      "        Date\n",
      "0 2023-01-01\n",
      "1 2023-01-15\n",
      "2 2023-01-20\n"
     ]
    }
   ],
   "source": [
    "import pandas as pd\n",
    "\n",
    "def select_date_range(df, start_date, end_date):\n",
    "    mask = (df['Date'] >= start_date) & (df['Date'] <= end_date)\n",
    "    selected_rows = df[mask]\n",
    "    return selected_rows\n",
    "\n",
    "data = {'Date': ['2023-01-01', '2023-01-15', '2023-01-20', '2023-02-05', '2023-02-10']}\n",
    "df = pd.DataFrame(data)\n",
    "\n",
    "df['Date'] = pd.to_datetime(df['Date'])\n",
    "\n",
    "\n",
    "start_date = '2023-01-01'\n",
    "end_date = '2023-01-31'\n",
    "selected_df = select_date_range(df, start_date, end_date)\n",
    "print(selected_df)"
   ]
  },
  {
   "cell_type": "raw",
   "id": "2a6394e1-5f3b-41d8-a622-88a60c76cbb1",
   "metadata": {},
   "source": [
    "Q13. To use the basic functions of pandas, what is the first and foremost necessary library that needs to\n",
    "     be imported?"
   ]
  },
  {
   "cell_type": "code",
   "execution_count": null,
   "id": "5b6e4dbc-2a99-41ed-be9e-85817518d93b",
   "metadata": {},
   "outputs": [],
   "source": [
    "The first and foremost necessary library that needs to be imported to use the basic functions of pandas\n",
    "  is the pandas library itself. \n",
    "   You need to import the pandas library to create and manipulate DataFrames and Series,\n",
    "    which are the core data structures used in pandas for data analysis and manipulation.\n",
    "    \n",
    "    \n",
    "    import pandas as pd\n",
    "    \n",
    "    \n",
    "By convention, the pandas library is often imported using the alias pd, which makes it easier to refer to pandas functions and objects in your code.\n",
    "\n",
    "Once you've imported the pandas library, you can start using its functions and classes to work with tabular data, perform data analysis, data cleaning, and more"
   ]
  }
 ],
 "metadata": {
  "kernelspec": {
   "display_name": "Python 3 (ipykernel)",
   "language": "python",
   "name": "python3"
  },
  "language_info": {
   "codemirror_mode": {
    "name": "ipython",
    "version": 3
   },
   "file_extension": ".py",
   "mimetype": "text/x-python",
   "name": "python",
   "nbconvert_exporter": "python",
   "pygments_lexer": "ipython3",
   "version": "3.10.8"
  }
 },
 "nbformat": 4,
 "nbformat_minor": 5
}
